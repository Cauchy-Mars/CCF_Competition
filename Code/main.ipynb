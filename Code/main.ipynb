{
 "cells": [
  {
   "cell_type": "code",
   "execution_count": 1,
   "metadata": {},
   "outputs": [],
   "source": [
    "import pandas as pd\n",
    "import numpy as np\n",
    "from encode import encode_train_test\n",
    "from compress import compress_24m\n",
    "from generate_train_from_24m import generate_train"
   ]
  },
  {
   "cell_type": "code",
   "execution_count": 2,
   "metadata": {},
   "outputs": [
    {
     "name": "stdout",
     "output_type": "stream",
     "text": [
      "range(0, 1320)\n"
     ]
    },
    {
     "data": {
      "text/plain": [
       "\"train_data.to_csv(path+'Final/train_sales_search_model_1.csv', index=False)\""
      ]
     },
     "execution_count": 2,
     "metadata": {},
     "output_type": "execute_result"
    }
   ],
   "source": [
    "#首先对训练集和测试集都进行编码\n",
    "path = '../Data/'\n",
    "train_data, eval_data = encode_train_test(path+'Handle/sales+search.csv', path+'evaluation_public.csv')\n",
    "\n",
    "#将每个省，每种车型的数据压缩成一行数据\n",
    "compress_data = compress_24m(train_data)\n",
    "\n",
    "#按照时间滑窗12个月生成训练集\n",
    "train_data = generate_train(compress_data)\n",
    "\n",
    "#输出训练集\n",
    "'''train_data.to_csv(path+'Final/train_sales_search_model_1.csv', index=False)'''"
   ]
  },
  {
   "cell_type": "code",
   "execution_count": 3,
   "metadata": {},
   "outputs": [
    {
     "name": "stdout",
     "output_type": "stream",
     "text": [
      "  province adcode model bodyType salesVolume1 popularity1 salesVolume2  \\\n",
      "0        3      0     0        3          798         775          532   \n",
      "0       12      1     0        3          340         561          242   \n",
      "0        7      2     0        3          129         296           94   \n",
      "0        2      3     0        3          106         241           63   \n",
      "0       18      4     0        3          292         250          205   \n",
      "\n",
      "  popularity2 salesVolume3 popularity3  ... salesVolume8 popularity8  \\\n",
      "0         874          838         610  ...          630         815   \n",
      "0         539          360         470  ...          362         543   \n",
      "0         604          160         177  ...          124         224   \n",
      "0         140          136         157  ...          112         135   \n",
      "0         249          321         322  ...          316         496   \n",
      "\n",
      "  salesVolume9 popularity9 salesVolume10 popularity10 salesVolume11  \\\n",
      "0          659         729           544          407           647   \n",
      "0          376         574           325          296           346   \n",
      "0          119         243           114          119           110   \n",
      "0           92         116            79           72            72   \n",
      "0          266         497           226          293           255   \n",
      "\n",
      "  popularity11 salesVolume12 popularity12  \n",
      "0          656           640          389  \n",
      "0          649           334          359  \n",
      "0          226           121          105  \n",
      "0          161            88           91  \n",
      "0          468           206          260  \n",
      "\n",
      "[5 rows x 28 columns]\n"
     ]
    }
   ],
   "source": [
    "base_columns = ['province', 'adcode', 'model', 'bodyType']\n",
    "fix1 = 'salesVolume'\n",
    "fix2 = 'popularity'\n",
    "final_columns = []\n",
    "for i in range(1, 13):\n",
    "    final_columns.append(fix1+str(i))\n",
    "    final_columns.append(fix2+str(i))\n",
    "    \n",
    "#计算出2018年1月的数据\n",
    "change_columns = []\n",
    "for i in range(13, 25):\n",
    "    change_columns.append(fix1+str(i))\n",
    "    change_columns.append(fix2+str(i))\n",
    "test_data_1 = compress_data[base_columns+change_columns]\n",
    "test_data_1.columns = base_columns+final_columns\n",
    "\n",
    "print(test_data_1.head())"
   ]
  },
  {
   "cell_type": "code",
   "execution_count": null,
   "metadata": {},
   "outputs": [],
   "source": []
  }
 ],
 "metadata": {
  "kernelspec": {
   "display_name": "Python 3",
   "language": "python",
   "name": "python3"
  },
  "language_info": {
   "codemirror_mode": {
    "name": "ipython",
    "version": 3
   },
   "file_extension": ".py",
   "mimetype": "text/x-python",
   "name": "python",
   "nbconvert_exporter": "python",
   "pygments_lexer": "ipython3",
   "version": "3.6.8"
  }
 },
 "nbformat": 4,
 "nbformat_minor": 2
}
