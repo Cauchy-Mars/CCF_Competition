{
 "cells": [
  {
   "cell_type": "code",
   "execution_count": 1,
   "metadata": {},
   "outputs": [],
   "source": [
    "import pandas as pd\n",
    "import numpy as np\n",
    "import xgboost as xgb\n",
    "import tools as ts\n",
    "from encode import encode_train_test\n",
    "from compress import compress_24m\n",
    "from generate_train_from_24m import generate_train_salesVolume, generate_train_popularity"
   ]
  },
  {
   "cell_type": "code",
   "execution_count": 2,
   "metadata": {},
   "outputs": [
    {
     "name": "stdout",
     "output_type": "stream",
     "text": [
      "range(0, 1320)\n"
     ]
    },
    {
     "data": {
      "text/plain": [
       "\"train_data.to_csv(path+'Final/train_sales_search_model_1.csv', index=False)\""
      ]
     },
     "execution_count": 2,
     "metadata": {},
     "output_type": "execute_result"
    }
   ],
   "source": [
    "#首先对训练集和测试集都进行编码\n",
    "path = '../Data/'\n",
    "train_data, eval_data = encode_train_test(path+'Handle/sales+search.csv', path+'evaluation_public.csv')\n",
    "\n",
    "#将每个省，每种车型的数据压缩成一行数据\n",
    "compress_data = compress_24m(train_data)\n",
    "\n",
    "#按照时间滑窗12个月生成训练集\n",
    "train_data = generate_train_salesVolume(compress_data)\n",
    "train_data_2 = generate_train_popularity(compress_data)\n",
    "\n",
    "#输出训练集\n",
    "'''train_data.to_csv(path+'Final/train_sales_search_model_1.csv', index=False)'''"
   ]
  },
  {
   "cell_type": "code",
   "execution_count": 20,
   "metadata": {},
   "outputs": [
    {
     "name": "stdout",
     "output_type": "stream",
     "text": [
      "(1320, 28)\n",
      "(1320, 31)\n"
     ]
    }
   ],
   "source": [
    "base_columns = ['province', 'adcode', 'model', 'bodyType']\n",
    "fix1 = 'salesVolume'\n",
    "fix2 = 'popularity'\n",
    "final_columns = []\n",
    "for i in range(1, 13):\n",
    "    final_columns.append(fix1+str(i))\n",
    "    final_columns.append(fix2+str(i))\n",
    "    \n",
    "#将每个值都变为int型\n",
    "train_data = ts.transform_type(train_data, train_data.columns, 'float')\n",
    "train_data_2 = ts.transform_type(train_data_2, train_data_2.columns, 'float')\n",
    "\n",
    "#训练模型\n",
    "model1= xgb.XGBRegressor()\n",
    "train_x = train_data.drop(['pred'], axis=1)\n",
    "train_y = train_data['pred']\n",
    "model1.fit(train_x, train_y)\n",
    "model1.save_model('model_1_salesVolume')\n",
    "\n",
    "model2 = xgb.XGBRegressor()\n",
    "train_x = train_data_2.drop(['pred'], axis=1)\n",
    "train_y = train_data_2['pred']\n",
    "model2.fit(train_x, train_y)\n",
    "model2.save_model('model_1_popularity')\n",
    "    \n",
    "#计算出2018年1月的数据\n",
    "change_columns = []\n",
    "for i in range(13, 25):\n",
    "    change_columns.append(fix1+str(i))\n",
    "    change_columns.append(fix2+str(i))\n",
    "test_data_1 = compress_data[base_columns+change_columns]\n",
    "test_data_1.columns = base_columns+final_columns\n",
    "test_data_1 = ts.transform_type(test_data_1, test_data_1.columns, 'float')\n",
    "print(test_data_1.shape)\n",
    "\n",
    "model1 = xgb.XGBRegressor()\n",
    "model1.load_model('model_1_salesVolume')\n",
    "model2 = xgb.XGBRegressor()\n",
    "model2.load_model('model_1_popularity')\n",
    "pred_1_1 = pd.DataFrame(model1.predict(test_data_1), columns=['pred1'])\n",
    "test_data_1 = test_data_1.reset_index()\n",
    "pred_1_2 = pd.DataFrame(model2.predict(test_data_1), columns=['pred2'])\n",
    "result_1 = pd.concat([test_data_1, pred_1_1, pred_1_2], axis=1)\n",
    "print(result_1.shape)\n",
    "\n"
   ]
  },
  {
   "cell_type": "code",
   "execution_count": null,
   "metadata": {},
   "outputs": [],
   "source": []
  }
 ],
 "metadata": {
  "kernelspec": {
   "display_name": "Python 3",
   "language": "python",
   "name": "python3"
  },
  "language_info": {
   "codemirror_mode": {
    "name": "ipython",
    "version": 3
   },
   "file_extension": ".py",
   "mimetype": "text/x-python",
   "name": "python",
   "nbconvert_exporter": "python",
   "pygments_lexer": "ipython3",
   "version": "3.6.4"
  }
 },
 "nbformat": 4,
 "nbformat_minor": 2
}
