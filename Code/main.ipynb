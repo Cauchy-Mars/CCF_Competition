{
 "cells": [
  {
   "cell_type": "code",
   "execution_count": 1,
   "metadata": {},
   "outputs": [],
   "source": [
    "import pandas as pd\n",
    "import numpy as np\n",
    "from encode import encode_train_test\n",
    "from compress import compress_24m\n",
    "from generate_train_from_24m import generate_train"
   ]
  },
  {
   "cell_type": "code",
   "execution_count": 3,
   "metadata": {},
   "outputs": [
    {
     "name": "stdout",
     "output_type": "stream",
     "text": [
      "range(0, 1320)\n"
     ]
    }
   ],
   "source": [
    "#首先对训练集和测试集都进行编码\n",
    "path = '../Data/'\n",
    "train_data, test_data = encode_train_test(path+'Handle/sales+search.csv', path+'evaluation_public.csv')\n",
    "\n",
    "#将每个省，每种车型的数据压缩成一行数据\n",
    "train_data = compress_24m(train_data)\n",
    "\n",
    "#按照时间滑窗12个月生成训练集\n",
    "train_data = generate_train(train_data)\n",
    "\n",
    "#输出训练集\n",
    "train_data.to_csv(path+'Final/train_sales_search_model_1.csv', index=False)"
   ]
  },
  {
   "cell_type": "code",
   "execution_count": null,
   "metadata": {},
   "outputs": [],
   "source": []
  }
 ],
 "metadata": {
  "kernelspec": {
   "display_name": "Python 3",
   "language": "python",
   "name": "python3"
  },
  "language_info": {
   "codemirror_mode": {
    "name": "ipython",
    "version": 3
   },
   "file_extension": ".py",
   "mimetype": "text/x-python",
   "name": "python",
   "nbconvert_exporter": "python",
   "pygments_lexer": "ipython3",
   "version": "3.6.8"
  }
 },
 "nbformat": 4,
 "nbformat_minor": 2
}
