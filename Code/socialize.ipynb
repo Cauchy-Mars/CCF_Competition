{
 "cells": [
  {
   "cell_type": "code",
   "execution_count": 1,
   "metadata": {},
   "outputs": [],
   "source": [
    "import pandas as pd\n",
    "import numpy as np"
   ]
  },
  {
   "cell_type": "code",
   "execution_count": 8,
   "metadata": {},
   "outputs": [],
   "source": [
    "path = '../Data/'\n",
    "data1 = pd.read_csv(path+'Final/model_2_2_2.csv')\n",
    "data2 = pd.read_csv(path+'Final/0.6155.csv')\n",
    "final = pd.DataFrame()\n",
    "final['id'] = data1['id']\n",
    "final['forecastVolum'] = 0\n",
    "for i in range(data1.shape[0]):\n",
    "    temp1 = data1.loc[i,'forecastVolum']\n",
    "    temp2 = data2.loc[i,'forecastVolum']\n",
    "    gap = abs(temp2-temp1)\n",
    "    if gap <= 0.1*temp2:\n",
    "        final.loc[i,'forecastVolum'] = 0.2*temp1+0.8*temp2\n",
    "    else:\n",
    "        final.loc[i,'forecastVolum'] = temp2\n",
    "final['forecastVolum'] = final['forecastVolum'].round().astype(int)\n",
    "final.to_csv(path+'Final/model_4_1_4.csv', index=False)"
   ]
  },
  {
   "cell_type": "code",
   "execution_count": null,
   "metadata": {},
   "outputs": [],
   "source": []
  }
 ],
 "metadata": {
  "kernelspec": {
   "display_name": "Python 3",
   "language": "python",
   "name": "python3"
  },
  "language_info": {
   "codemirror_mode": {
    "name": "ipython",
    "version": 3
   },
   "file_extension": ".py",
   "mimetype": "text/x-python",
   "name": "python",
   "nbconvert_exporter": "python",
   "pygments_lexer": "ipython3",
   "version": "3.6.4"
  }
 },
 "nbformat": 4,
 "nbformat_minor": 2
}
