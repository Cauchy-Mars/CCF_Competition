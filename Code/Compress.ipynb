{
 "cells": [
  {
   "cell_type": "code",
   "execution_count": 33,
   "metadata": {},
   "outputs": [],
   "source": [
    "import pandas as pd\n",
    "import numpy as np\n",
    "import matplotlib.pyplot as plt"
   ]
  },
  {
   "cell_type": "code",
   "execution_count": 34,
   "metadata": {},
   "outputs": [],
   "source": [
    "data = pd.read_csv(\"../Train/new_sales_search.csv\")"
   ]
  },
  {
   "cell_type": "code",
   "execution_count": 35,
   "metadata": {},
   "outputs": [
    {
     "name": "stdout",
     "output_type": "stream",
     "text": [
      "range(0, 1320)\n"
     ]
    }
   ],
   "source": [
    "total_row = data.shape[0]\n",
    "unique_num = (int)(total_row / 24)\n",
    "range_row = range(unique_num)\n",
    "print(range_row)"
   ]
  },
  {
   "cell_type": "code",
   "execution_count": 36,
   "metadata": {},
   "outputs": [],
   "source": [
    "#确定列名\n",
    "new_column = ['province', 'adcode', 'model', 'bodyType']\n",
    "for i in range(1, 25):\n",
    "    new_column.append('salesVolume' + str(i))\n",
    "    new_column.append('popularity' + str(i))"
   ]
  },
  {
   "cell_type": "code",
   "execution_count": 56,
   "metadata": {},
   "outputs": [
    {
     "name": "stdout",
     "output_type": "stream",
     "text": [
      "  province adcode model bodyType salesVolume1 popularity1 salesVolume2  \\\n",
      "0        3      0     0        3          799         613          424   \n",
      "0       12      1     0        3          325         477          118   \n",
      "0        7      2     0        3          102         174           58   \n",
      "0        2      3     0        3           92          99           51   \n",
      "0       18      4     0        3          231         244          150   \n",
      "\n",
      "  popularity2 salesVolume3 popularity3  ... salesVolume20 popularity20  \\\n",
      "0         522          733         646  ...           630          815   \n",
      "0         390          239         386  ...           362          543   \n",
      "0         164          112         158  ...           124          224   \n",
      "0         113           90          95  ...           112          135   \n",
      "0         219          206         221  ...           316          496   \n",
      "\n",
      "  salesVolume21 popularity21 salesVolume22 popularity22 salesVolume23  \\\n",
      "0           659          729           544          407           647   \n",
      "0           376          574           325          296           346   \n",
      "0           119          243           114          119           110   \n",
      "0            92          116            79           72            72   \n",
      "0           266          497           226          293           255   \n",
      "\n",
      "  popularity23 salesVolume24 popularity24  \n",
      "0          656           640          389  \n",
      "0          649           334          359  \n",
      "0          226           121          105  \n",
      "0          161            88           91  \n",
      "0          468           206          260  \n",
      "\n",
      "[5 rows x 52 columns]\n"
     ]
    }
   ],
   "source": [
    "#进行拼接与压缩\n",
    "new_data = pd.DataFrame(columns=new_column)\n",
    "for i in range_row:\n",
    "    temp = pd.DataFrame(columns=new_column)\n",
    "    temp.loc[0, 'province'] = data.loc[24*i, 'province']\n",
    "    temp.loc[0, 'adcode'] = data.loc[24*i, 'adcode']\n",
    "    temp.loc[0, 'model'] = data.loc[24*i, 'model']\n",
    "    temp.loc[0, 'bodyType'] = data.loc[24*i, 'bodyType']\n",
    "    temp.loc[0, 'salesVolume1'] = data.loc[24*i, 'salesVolume']\n",
    "    temp.loc[0, 'popularity1'] = data.loc[24*i, 'popularity']\n",
    "    base = 24*i\n",
    "    for j in range(1, 24):\n",
    "        temp.loc[0, 'salesVolume' + str(j+1)] = data.loc[base+j, 'salesVolume']\n",
    "        temp.loc[0, 'popularity' + str(j+1)] = data.loc[base+j, 'popularity']\n",
    "    new_data = pd.concat([new_data, temp])\n",
    "    #print(temp)\n",
    "print(new_data.head())"
   ]
  },
  {
   "cell_type": "code",
   "execution_count": 58,
   "metadata": {},
   "outputs": [],
   "source": [
    "#导出新文件\n",
    "new_data.to_csv('../Data/Handle/compress_sales_search.csv', index=False)"
   ]
  },
  {
   "cell_type": "code",
   "execution_count": null,
   "metadata": {},
   "outputs": [],
   "source": []
  }
 ],
 "metadata": {
  "kernelspec": {
   "display_name": "Python 3",
   "language": "python",
   "name": "python3"
  },
  "language_info": {
   "codemirror_mode": {
    "name": "ipython",
    "version": 3
   },
   "file_extension": ".py",
   "mimetype": "text/x-python",
   "name": "python",
   "nbconvert_exporter": "python",
   "pygments_lexer": "ipython3",
   "version": "3.6.8"
  }
 },
 "nbformat": 4,
 "nbformat_minor": 2
}
