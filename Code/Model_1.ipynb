{
 "cells": [
  {
   "cell_type": "code",
   "execution_count": 4,
   "metadata": {},
   "outputs": [],
   "source": [
    "import pandas as pd\n",
    "import numpy as np\n",
    "import matplotlib.pyplot as plt"
   ]
  },
  {
   "cell_type": "code",
   "execution_count": 5,
   "metadata": {},
   "outputs": [],
   "source": [
    "data = pd.read_csv('../Data/Handle/compress_sales_search.csv')\n",
    "base_column = ['province', 'adcode', 'model', 'bodyType']\n",
    "slide_column = ['province', 'adcode', 'model', 'bodyType']\n",
    "data_column = ['province', 'adcode', 'model', 'bodyType']\n",
    "for i in range(1, 13):\n",
    "    slide_column.append('salesVolume' + str(i))\n",
    "    slide_column.append('popularity' + str(i))\n",
    "    data_column.append('salesVolume' + str(i))\n",
    "    data_column.append('popularity' + str(i))\n",
    "slide_column.append('result')"
   ]
  },
  {
   "cell_type": "code",
   "execution_count": 7,
   "metadata": {},
   "outputs": [
    {
     "name": "stdout",
     "output_type": "stream",
     "text": [
      "  province adcode model bodyType salesVolume1 popularity1 salesVolume2  \\\n",
      "0        3      0     0        3          799         613          424   \n",
      "1       12      1     0        3          325         477          118   \n",
      "2        7      2     0        3          102         174           58   \n",
      "3        2      3     0        3           92          99           51   \n",
      "4       18      4     0        3          231         244          150   \n",
      "\n",
      "  popularity2 salesVolume3 popularity3  ... popularity8 salesVolume9  \\\n",
      "0         522          733         646  ...         758          831   \n",
      "1         390          239         386  ...         503          362   \n",
      "2         164          112         158  ...         178          121   \n",
      "3         113           90          95  ...         123           97   \n",
      "4         219          206         221  ...         295          299   \n",
      "\n",
      "  popularity9 salesVolume10 popularity10 salesVolume11 popularity11  \\\n",
      "0         810           642          806           654          765   \n",
      "1         606           307          576           254          490   \n",
      "2         236           105          212           117          188   \n",
      "3         157            99          155            82          175   \n",
      "4         331           229          309           207          252   \n",
      "\n",
      "  salesVolume12 popularity12 result  \n",
      "0           521          815    798  \n",
      "1           182          528    340  \n",
      "2           105          197    129  \n",
      "3            59          428    106  \n",
      "4           174          338    292  \n",
      "\n",
      "[5 rows x 29 columns]\n"
     ]
    }
   ],
   "source": [
    "#构造滑窗数据\n",
    "final_df = pd.DataFrame(columns=slide_column)\n",
    "slide1 = pd.DataFrame()\n",
    "slide1[data_column] = data[data_column]\n",
    "slide1['result'] = data['salesVolume13']\n",
    "slide2 = pd.DataFrame()\n",
    "slide2[base_column] = data[base_column]\n",
    "for i in range(1, 13):\n",
    "    slide2['salesVolume' + str(i)] = data['salesVolume' + str(i+1)]\n",
    "    slide2['popularity' + str(i)] = data['popularity' + str(i+1)]\n",
    "slide2['result'] = data['salesVolume14']\n",
    "slide3 = pd.DataFrame()\n",
    "slide3[base_column] = data[base_column]\n",
    "for i in range(1, 13):\n",
    "    slide3['salesVolume' + str(i)] = data['salesVolume' + str(i+2)]\n",
    "    slide3['popularity' + str(i)] = data['popularity' + str(i+2)]\n",
    "slide3['result'] = data['salesVolume15']\n",
    "slide4 = pd.DataFrame()\n",
    "slide4[base_column] = data[base_column]\n",
    "for i in range(1, 13):\n",
    "    slide4['salesVolume' + str(i)] = data['salesVolume' + str(i+3)]\n",
    "    slide4['popularity' + str(i)] = data['popularity' + str(i+3)]\n",
    "slide4['result'] = data['salesVolume16']\n",
    "slide5 = pd.DataFrame()\n",
    "slide5[base_column] = data[base_column]\n",
    "for i in range(1, 13):\n",
    "    slide5['salesVolume' + str(i)] = data['salesVolume' + str(i+4)]\n",
    "    slide5['popularity' + str(i)] = data['popularity' + str(i+4)]\n",
    "slide5['result'] = data['salesVolume17']\n",
    "slide6 = pd.DataFrame()\n",
    "slide6[base_column] = data[base_column]\n",
    "for i in range(1, 13):\n",
    "    slide6['salesVolume' + str(i)] = data['salesVolume' + str(i+5)]\n",
    "    slide6['popularity' + str(i)] = data['popularity' + str(i+5)]\n",
    "slide6['result'] = data['salesVolume18']\n",
    "slide7 = pd.DataFrame()\n",
    "slide7[base_column] = data[base_column]\n",
    "for i in range(1, 13):\n",
    "    slide7['salesVolume' + str(i)] = data['salesVolume' + str(i+6)]\n",
    "    slide7['popularity' + str(i)] = data['popularity' + str(i+6)]\n",
    "slide7['result'] = data['salesVolume19']\n",
    "slide8 = pd.DataFrame()\n",
    "slide8[base_column] = data[base_column]\n",
    "for i in range(1, 13):\n",
    "    slide8['salesVolume' + str(i)] = data['salesVolume' + str(i+7)]\n",
    "    slide8['popularity' + str(i)] = data['popularity' + str(i+7)]\n",
    "slide8['result'] = data['salesVolume20']\n",
    "slide9 = pd.DataFrame()\n",
    "slide9[base_column] = data[base_column]\n",
    "for i in range(1, 13):\n",
    "    slide9['salesVolume' + str(i)] = data['salesVolume' + str(i+8)]\n",
    "    slide9['popularity' + str(i)] = data['popularity' + str(i+8)]\n",
    "slide9['result'] = data['salesVolume21']\n",
    "slide10 = pd.DataFrame()\n",
    "slide10[base_column] = data[base_column]\n",
    "for i in range(1, 13):\n",
    "    slide10['salesVolume' + str(i)] = data['salesVolume' + str(i+9)]\n",
    "    slide10['popularity' + str(i)] = data['popularity' + str(i+9)]\n",
    "slide10['result'] = data['salesVolume22']\n",
    "slide11 = pd.DataFrame()\n",
    "slide11[base_column] = data[base_column]\n",
    "for i in range(1, 13):\n",
    "    slide11['salesVolume' + str(i)] = data['salesVolume' + str(i+10)]\n",
    "    slide11['popularity' + str(i)] = data['popularity' + str(i+10)]\n",
    "slide11['result'] = data['salesVolume23']\n",
    "slide12 = pd.DataFrame()\n",
    "slide12[base_column] = data[base_column]\n",
    "for i in range(1, 13):\n",
    "    slide12['salesVolume' + str(i)] = data['salesVolume' + str(i+11)]\n",
    "    slide12['popularity' + str(i)] = data['popularity' + str(i+11)]\n",
    "slide12['result'] = data['salesVolume24']\n",
    "final_df = pd.concat([final_df, slide1, slide2, slide3, slide4, slide5, slide6, slide7, slide8, slide9, slide10, slide11, slide12])\n",
    "\n",
    "print(final_df.head())"
   ]
  },
  {
   "cell_type": "code",
   "execution_count": 8,
   "metadata": {},
   "outputs": [],
   "source": [
    "final_df.to_csv('../Data/Handle/slide_sales_search.csv', index=False)"
   ]
  },
  {
   "cell_type": "code",
   "execution_count": 9,
   "metadata": {},
   "outputs": [
    {
     "name": "stdout",
     "output_type": "stream",
     "text": [
      "   province  adcode  model  bodyType  salesVolume1  popularity1  salesVolume2  \\\n",
      "0         3       0      0         3           798          775           532   \n",
      "1        12       1      0         3           340          561           242   \n",
      "2         7       2      0         3           129          296            94   \n",
      "3         2       3      0         3           106          241            63   \n",
      "4        18       4      0         3           292          250           205   \n",
      "\n",
      "   popularity2  salesVolume3  popularity3  ...  salesVolume8  popularity8  \\\n",
      "0          874           838          610  ...           630          815   \n",
      "1          539           360          470  ...           362          543   \n",
      "2          604           160          177  ...           124          224   \n",
      "3          140           136          157  ...           112          135   \n",
      "4          249           321          322  ...           316          496   \n",
      "\n",
      "   salesVolume9  popularity9  salesVolume10  popularity10  salesVolume11  \\\n",
      "0           659          729            544           407            647   \n",
      "1           376          574            325           296            346   \n",
      "2           119          243            114           119            110   \n",
      "3            92          116             79            72             72   \n",
      "4           266          497            226           293            255   \n",
      "\n",
      "   popularity11  salesVolume12  popularity12  \n",
      "0           656            640           389  \n",
      "1           649            334           359  \n",
      "2           226            121           105  \n",
      "3           161             88            91  \n",
      "4           468            206           260  \n",
      "\n",
      "[5 rows x 28 columns]\n"
     ]
    }
   ],
   "source": [
    "test1 = pd.DataFrame()\n",
    "test1[base_column] = data[base_column]\n",
    "for i in range(1, 13):\n",
    "    test1['salesVolume' + str(i)] = data['salesVolume' + str(i+12)]\n",
    "    test1['popularity' + str(i)] = data['popularity' + str(i+12)]\n",
    "print(test1.head())"
   ]
  },
  {
   "cell_type": "code",
   "execution_count": 10,
   "metadata": {},
   "outputs": [],
   "source": [
    "import xgboost as xgb"
   ]
  },
  {
   "cell_type": "code",
   "execution_count": 19,
   "metadata": {},
   "outputs": [
    {
     "name": "stdout",
     "output_type": "stream",
     "text": [
      "  province adcode model bodyType salesVolume1 popularity1 salesVolume2  \\\n",
      "0        3      0     0        3          799         613          424   \n",
      "1       12      1     0        3          325         477          118   \n",
      "2        7      2     0        3          102         174           58   \n",
      "3        2      3     0        3           92          99           51   \n",
      "4       18      4     0        3          231         244          150   \n",
      "\n",
      "  popularity2 salesVolume3 popularity3  ... salesVolume8 popularity8  \\\n",
      "0         522          733         646  ...          847         758   \n",
      "1         390          239         386  ...          330         503   \n",
      "2         164          112         158  ...          154         178   \n",
      "3         113           90          95  ...          130         123   \n",
      "4         219          206         221  ...          346         295   \n",
      "\n",
      "  salesVolume9 popularity9 salesVolume10 popularity10 salesVolume11  \\\n",
      "0          831         810           642          806           654   \n",
      "1          362         606           307          576           254   \n",
      "2          121         236           105          212           117   \n",
      "3           97         157            99          155            82   \n",
      "4          299         331           229          309           207   \n",
      "\n",
      "  popularity11 salesVolume12 popularity12  \n",
      "0          765           521          815  \n",
      "1          490           182          528  \n",
      "2          188           105          197  \n",
      "3          175            59          428  \n",
      "4          252           174          338  \n",
      "\n",
      "[5 rows x 28 columns]\n",
      "0    3\n",
      "0    3\n",
      "0    3\n",
      "0    3\n",
      "0    3\n",
      "0    3\n",
      "0    3\n",
      "0    3\n",
      "0    3\n",
      "0    3\n",
      "0    3\n",
      "0    3\n",
      "Name: province, dtype: object\n"
     ]
    },
    {
     "ename": "ValueError",
     "evalue": "DataFrame.dtypes for data must be int, float or bool.\n                Did not expect the data types in fields province, adcode, model, bodyType, salesVolume1, popularity1, salesVolume2, popularity2, salesVolume3, popularity3, salesVolume4, popularity4, salesVolume5, popularity5, salesVolume6, popularity6, salesVolume7, popularity7, salesVolume8, popularity8, salesVolume9, popularity9, salesVolume10, popularity10, salesVolume11, popularity11, salesVolume12, popularity12",
     "output_type": "error",
     "traceback": [
      "\u001b[0;31m---------------------------------------------------------------------------\u001b[0m",
      "\u001b[0;31mValueError\u001b[0m                                Traceback (most recent call last)",
      "\u001b[0;32m<ipython-input-19-53caca108f60>\u001b[0m in \u001b[0;36m<module>\u001b[0;34m\u001b[0m\n\u001b[1;32m      5\u001b[0m \u001b[0mprint\u001b[0m\u001b[0;34m(\u001b[0m\u001b[0;34m(\u001b[0m\u001b[0mx\u001b[0m\u001b[0;34m.\u001b[0m\u001b[0mloc\u001b[0m\u001b[0;34m[\u001b[0m\u001b[0;36m0\u001b[0m\u001b[0;34m,\u001b[0m \u001b[0;34m'province'\u001b[0m\u001b[0;34m]\u001b[0m\u001b[0;34m)\u001b[0m\u001b[0;34m)\u001b[0m\u001b[0;34m\u001b[0m\u001b[0m\n\u001b[1;32m      6\u001b[0m \u001b[0my\u001b[0m \u001b[0;34m=\u001b[0m \u001b[0mfinal_df\u001b[0m\u001b[0;34m[\u001b[0m\u001b[0;34m'result'\u001b[0m\u001b[0;34m]\u001b[0m\u001b[0;34m\u001b[0m\u001b[0m\n\u001b[0;32m----> 7\u001b[0;31m \u001b[0mclf\u001b[0m\u001b[0;34m.\u001b[0m\u001b[0mfit\u001b[0m\u001b[0;34m(\u001b[0m\u001b[0mx\u001b[0m\u001b[0;34m,\u001b[0m \u001b[0my\u001b[0m\u001b[0;34m)\u001b[0m\u001b[0;34m\u001b[0m\u001b[0m\n\u001b[0m",
      "\u001b[0;32m/Library/Frameworks/Python.framework/Versions/3.6/lib/python3.6/site-packages/xgboost-1.0.0_SNAPSHOT-py3.6.egg/xgboost/sklearn.py\u001b[0m in \u001b[0;36mfit\u001b[0;34m(self, X, y, sample_weight, eval_set, eval_metric, early_stopping_rounds, verbose, xgb_model, sample_weight_eval_set, callbacks)\u001b[0m\n\u001b[1;32m    367\u001b[0m                                    missing=self.missing, nthread=self.n_jobs)\n\u001b[1;32m    368\u001b[0m         \u001b[0;32melse\u001b[0m\u001b[0;34m:\u001b[0m\u001b[0;34m\u001b[0m\u001b[0m\n\u001b[0;32m--> 369\u001b[0;31m             \u001b[0mtrainDmatrix\u001b[0m \u001b[0;34m=\u001b[0m \u001b[0mDMatrix\u001b[0m\u001b[0;34m(\u001b[0m\u001b[0mX\u001b[0m\u001b[0;34m,\u001b[0m \u001b[0mlabel\u001b[0m\u001b[0;34m=\u001b[0m\u001b[0my\u001b[0m\u001b[0;34m,\u001b[0m \u001b[0mmissing\u001b[0m\u001b[0;34m=\u001b[0m\u001b[0mself\u001b[0m\u001b[0;34m.\u001b[0m\u001b[0mmissing\u001b[0m\u001b[0;34m,\u001b[0m \u001b[0mnthread\u001b[0m\u001b[0;34m=\u001b[0m\u001b[0mself\u001b[0m\u001b[0;34m.\u001b[0m\u001b[0mn_jobs\u001b[0m\u001b[0;34m)\u001b[0m\u001b[0;34m\u001b[0m\u001b[0m\n\u001b[0m\u001b[1;32m    370\u001b[0m \u001b[0;34m\u001b[0m\u001b[0m\n\u001b[1;32m    371\u001b[0m         \u001b[0mevals_result\u001b[0m \u001b[0;34m=\u001b[0m \u001b[0;34m{\u001b[0m\u001b[0;34m}\u001b[0m\u001b[0;34m\u001b[0m\u001b[0m\n",
      "\u001b[0;32m/Library/Frameworks/Python.framework/Versions/3.6/lib/python3.6/site-packages/xgboost-1.0.0_SNAPSHOT-py3.6.egg/xgboost/core.py\u001b[0m in \u001b[0;36m__init__\u001b[0;34m(self, data, label, missing, weight, silent, feature_names, feature_types, nthread)\u001b[0m\n\u001b[1;32m    490\u001b[0m \u001b[0;34m\u001b[0m\u001b[0m\n\u001b[1;32m    491\u001b[0m         data, feature_names, feature_types = _convert_dataframes(\n\u001b[0;32m--> 492\u001b[0;31m             \u001b[0mdata\u001b[0m\u001b[0;34m,\u001b[0m \u001b[0mfeature_names\u001b[0m\u001b[0;34m,\u001b[0m \u001b[0mfeature_types\u001b[0m\u001b[0;34m\u001b[0m\u001b[0m\n\u001b[0m\u001b[1;32m    493\u001b[0m         )\n\u001b[1;32m    494\u001b[0m \u001b[0;34m\u001b[0m\u001b[0m\n",
      "\u001b[0;32m/Library/Frameworks/Python.framework/Versions/3.6/lib/python3.6/site-packages/xgboost-1.0.0_SNAPSHOT-py3.6.egg/xgboost/core.py\u001b[0m in \u001b[0;36m_convert_dataframes\u001b[0;34m(data, feature_names, feature_types)\u001b[0m\n\u001b[1;32m    414\u001b[0m     data, feature_names, feature_types = _maybe_pandas_data(data,\n\u001b[1;32m    415\u001b[0m                                                             \u001b[0mfeature_names\u001b[0m\u001b[0;34m,\u001b[0m\u001b[0;34m\u001b[0m\u001b[0m\n\u001b[0;32m--> 416\u001b[0;31m                                                             feature_types)\n\u001b[0m\u001b[1;32m    417\u001b[0m \u001b[0;34m\u001b[0m\u001b[0m\n\u001b[1;32m    418\u001b[0m     data, feature_names, feature_types = _maybe_dt_data(data,\n",
      "\u001b[0;32m/Library/Frameworks/Python.framework/Versions/3.6/lib/python3.6/site-packages/xgboost-1.0.0_SNAPSHOT-py3.6.egg/xgboost/core.py\u001b[0m in \u001b[0;36m_maybe_pandas_data\u001b[0;34m(data, feature_names, feature_types)\u001b[0m\n\u001b[1;32m    302\u001b[0m         msg = \"\"\"DataFrame.dtypes for data must be int, float or bool.\n\u001b[1;32m    303\u001b[0m                 Did not expect the data types in fields \"\"\"\n\u001b[0;32m--> 304\u001b[0;31m         \u001b[0;32mraise\u001b[0m \u001b[0mValueError\u001b[0m\u001b[0;34m(\u001b[0m\u001b[0mmsg\u001b[0m \u001b[0;34m+\u001b[0m \u001b[0;34m', '\u001b[0m\u001b[0;34m.\u001b[0m\u001b[0mjoin\u001b[0m\u001b[0;34m(\u001b[0m\u001b[0mbad_fields\u001b[0m\u001b[0;34m)\u001b[0m\u001b[0;34m)\u001b[0m\u001b[0;34m\u001b[0m\u001b[0m\n\u001b[0m\u001b[1;32m    305\u001b[0m \u001b[0;34m\u001b[0m\u001b[0m\n\u001b[1;32m    306\u001b[0m     \u001b[0;32mif\u001b[0m \u001b[0mfeature_names\u001b[0m \u001b[0;32mis\u001b[0m \u001b[0;32mNone\u001b[0m\u001b[0;34m:\u001b[0m\u001b[0;34m\u001b[0m\u001b[0m\n",
      "\u001b[0;31mValueError\u001b[0m: DataFrame.dtypes for data must be int, float or bool.\n                Did not expect the data types in fields province, adcode, model, bodyType, salesVolume1, popularity1, salesVolume2, popularity2, salesVolume3, popularity3, salesVolume4, popularity4, salesVolume5, popularity5, salesVolume6, popularity6, salesVolume7, popularity7, salesVolume8, popularity8, salesVolume9, popularity9, salesVolume10, popularity10, salesVolume11, popularity11, salesVolume12, popularity12"
     ]
    }
   ],
   "source": [
    "clf = xgb.XGBRegressor()\n",
    "final_df.reset_index(drop=True)\n",
    "x = final_df.drop(['result'], axis=1)\n",
    "print(x.head())\n",
    "print((x.loc[0, 'province']))\n",
    "y = final_df['result']\n",
    "clf.fit(x, y)\n"
   ]
  },
  {
   "cell_type": "code",
   "execution_count": null,
   "metadata": {},
   "outputs": [],
   "source": []
  }
 ],
 "metadata": {
  "kernelspec": {
   "display_name": "Python 3",
   "language": "python",
   "name": "python3"
  },
  "language_info": {
   "codemirror_mode": {
    "name": "ipython",
    "version": 3
   },
   "file_extension": ".py",
   "mimetype": "text/x-python",
   "name": "python",
   "nbconvert_exporter": "python",
   "pygments_lexer": "ipython3",
   "version": "3.6.4"
  }
 },
 "nbformat": 4,
 "nbformat_minor": 2
}
