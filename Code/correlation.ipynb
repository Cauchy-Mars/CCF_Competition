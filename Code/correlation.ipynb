{
 "cells": [
  {
   "cell_type": "code",
   "execution_count": 1,
   "metadata": {},
   "outputs": [],
   "source": [
    "import pandas as pd\n",
    "import numpy as np"
   ]
  },
  {
   "cell_type": "code",
   "execution_count": 2,
   "metadata": {},
   "outputs": [],
   "source": [
    "path = '../Data/'\n",
    "sale = pd.read_csv(path+'Train/train_sales_data.csv')\n",
    "search = pd.read_csv(path+'Train/train_search_data.csv')\n",
    "reply = pd.read_csv(path+'Train/train_user_reply_data.csv')"
   ]
  },
  {
   "cell_type": "code",
   "execution_count": 11,
   "metadata": {},
   "outputs": [],
   "source": [
    "#统计每种车型前12个月的涨幅数据\n",
    "cor = pd.DataFrame()\n",
    "sale['mt'] = (sale['regYear']-2016)*12 + sale['regMonth']\n",
    "for m in sale['model'].unique():\n",
    "    temp = []\n",
    "    for i in range(23):\n",
    "        val1 = sale[(sale['model'] == m) & (sale['mt'] == i)]['salesVolume'].sum()\n",
    "        val2 = sale[(sale['model'] == m) & (sale['mt'] == i+1)]['salesVolume'].sum()\n",
    "        gap = val2-val1\n",
    "        temp.append(gap)\n",
    "    cor[m] = temp\n",
    "cor.corr().to_csv(path+'Handle/correlation_1.csv')"
   ]
  },
  {
   "cell_type": "code",
   "execution_count": null,
   "metadata": {},
   "outputs": [],
   "source": []
  }
 ],
 "metadata": {
  "kernelspec": {
   "display_name": "Python 3",
   "language": "python",
   "name": "python3"
  },
  "language_info": {
   "codemirror_mode": {
    "name": "ipython",
    "version": 3
   },
   "file_extension": ".py",
   "mimetype": "text/x-python",
   "name": "python",
   "nbconvert_exporter": "python",
   "pygments_lexer": "ipython3",
   "version": "3.6.8"
  }
 },
 "nbformat": 4,
 "nbformat_minor": 2
}
