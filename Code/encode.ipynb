{
 "cells": [
  {
   "cell_type": "code",
   "execution_count": 2,
   "metadata": {},
   "outputs": [],
   "source": [
    "import pandas as pd\n",
    "import numpy as np\n",
    "from sklearn.preprocessing import LabelEncoder"
   ]
  },
  {
   "cell_type": "code",
   "execution_count": 3,
   "metadata": {},
   "outputs": [],
   "source": [
    "def encode_train_test(train_path, test_path):\n",
    "    train = pd.read_csv(train_path)\n",
    "    test = pd.read_csv(test_path)\n",
    "    province = LabelEncoder()\n",
    "    adcode = LabelEncoder()\n",
    "    model = LabelEncoder()\n",
    "    bodyType = LabelEncoder()\n",
    "    province.fit(train['province'])\n",
    "    adcode.fit(train['adcode'])\n",
    "    model.fit(train['model'])\n",
    "    bodyType.fit(train['bodyType'])\n",
    "    \n",
    "    train['province'] = province.transform(train['province'])\n",
    "    train['adcode'] = adcode.transform(train['adcode'])\n",
    "    train['model'] = model.transform(train['model'])\n",
    "    train['bodyType'] = bodyType.transform(train['bodyType'])\n",
    "    \n",
    "    test['province'] = province.transform(test['province'])\n",
    "    test['adcode'] = adcode.transform(test['adcode'])\n",
    "    test['model'] = model.transform(test['model'])\n",
    "    \n",
    "    return train, test"
   ]
  },
  {
   "cell_type": "code",
   "execution_count": null,
   "metadata": {},
   "outputs": [],
   "source": []
  }
 ],
 "metadata": {
  "kernelspec": {
   "display_name": "Python 3",
   "language": "python",
   "name": "python3"
  },
  "language_info": {
   "codemirror_mode": {
    "name": "ipython",
    "version": 3
   },
   "file_extension": ".py",
   "mimetype": "text/x-python",
   "name": "python",
   "nbconvert_exporter": "python",
   "pygments_lexer": "ipython3",
   "version": "3.6.8"
  }
 },
 "nbformat": 4,
 "nbformat_minor": 2
}
